{
 "cells": [
  {
   "cell_type": "markdown",
   "metadata": {},
   "source": [
    "# Day Objectives\n",
    "* Python Data Structures\n",
    "* Lists\n",
    "* Tuples\n",
    "* Dictionaries\n",
    "* Basic Problem set on Data Structures\n",
    "* Advanced Problem Set\n",
    "* Packages and Modules in Python\n"
   ]
  },
  {
   "cell_type": "code",
   "execution_count": null,
   "metadata": {},
   "outputs": [],
   "source": []
  },
  {
   "cell_type": "markdown",
   "metadata": {},
   "source": [
    "### Python DataStructures\n",
    "\n",
    "**Lists**"
   ]
  },
  {
   "cell_type": "code",
   "execution_count": 4,
   "metadata": {},
   "outputs": [
    {
     "name": "stdout",
     "output_type": "stream",
     "text": [
      "30\n",
      "30.0\n",
      "50.0\n"
     ]
    }
   ],
   "source": [
    "l = [1,2,3,4]\n",
    "l #Access the entire list\n",
    "l[1] #Access list with index\n",
    "l[1:] #Access all elements from 2nd element to last \n",
    "l[::-1] #Reverse the list\n",
    "l[::2] #Accessing even index elements\n",
    "l[1::2] #Accessing odd index elements\n",
    "l.append(5)\n",
    "l\n",
    "l.remove(5)\n",
    "l.insert(1, 234)\n",
    "l.sort(reverse=True)\n",
    "l\n",
    "l.pop(1)\n",
    "l1=[6,7,8,9,0]\n",
    "l.extend(l1)\n",
    "\n",
    "print(sum(l1))\n",
    "\n",
    "l\n",
    "\n",
    "#Average of list\n",
    "\n",
    "print(sum(l)/len(l))\n",
    "print(sum(l[::2])/len(l[::2]))\n"
   ]
  },
  {
   "cell_type": "code",
   "execution_count": 11,
   "metadata": {},
   "outputs": [
    {
     "name": "stdout",
     "output_type": "stream",
     "text": [
      "Enter a list element separated by space:12 334 11 45 11 657 32\n"
     ]
    },
    {
     "data": {
      "text/plain": [
       "12"
      ]
     },
     "execution_count": 11,
     "metadata": {},
     "output_type": "execute_result"
    }
   ],
   "source": [
    "# Second largest element in a list\n",
    "\n",
    "def secondLargest(li):\n",
    "    l2.sort()\n",
    "    return l2[-2]\n",
    "li=input(\"Enter a list element separated by space:\").split()\n",
    "l1=list(li)\n",
    "l2 = [int(i) for i in l1]\n",
    "\n",
    "\n",
    "#nth Largest number from the list \n",
    "\n",
    "def genericLargest(l2, n):\n",
    "    l2.sort()\n",
    "    return l2[-n]\n",
    "secondLargest(li)\n",
    "genericLargest(l2, 5)"
   ]
  },
  {
   "cell_type": "code",
   "execution_count": 34,
   "metadata": {},
   "outputs": [
    {
     "data": {
      "text/plain": [
       "4"
      ]
     },
     "execution_count": 34,
     "metadata": {},
     "output_type": "execute_result"
    }
   ],
   "source": [
    "# Funtion to search data in a list\n",
    "# Search for the key in the list and return index of the key. Return -1 if key not found\n",
    "\n",
    "li=[1,21,13,456,23,5]\n",
    "def linearSearch(li, key):\n",
    "    for index in range(0, len(li)):\n",
    "        if li[index] == key:\n",
    "            return index\n",
    "    return -1   \n",
    "\n",
    "\n",
    "def linearSearch2(li, key):\n",
    "    for element in li:\n",
    "        if element == key:\n",
    "            return li.index(element)\n",
    "        return -1\n",
    "    \n",
    "linearSearch(li, 13)\n",
    "linearSearch2(li, 13)\n",
    "\n",
    "\n",
    "def linearSearch3(li, key):\n",
    "    if key in li:\n",
    "        return li.index(key)\n",
    "    return -1\n",
    "linearSearch3(li, 23)\n"
   ]
  },
  {
   "cell_type": "code",
   "execution_count": 1,
   "metadata": {},
   "outputs": [
    {
     "data": {
      "text/plain": [
       "2"
      ]
     },
     "execution_count": 1,
     "metadata": {},
     "output_type": "execute_result"
    }
   ],
   "source": [
    "# Function to count the occurances of a character in a string\n",
    "# \"Python Programming\", m->2\n",
    "\n",
    "def countOccurances(s, c):\n",
    "    count = 0\n",
    "    for ch in s:\n",
    "        if ch == c:\n",
    "            count +=1\n",
    "    return count   \n",
    "countOccurances(\"Python Programming\", 'm')\n",
    "\n",
    "\n",
    "def countOccurances2(s, c):\n",
    "    return s.count(c)\n",
    "countOccurances2(\"Python Programming\", 'Py')\n",
    "\n",
    "\n",
    "\n",
    "# Function to find occurances of substring in a string\n",
    "\n",
    "def occuranceSubString(s, sb):\n",
    "    results = 0\n",
    "    sub_len = len(sb)\n",
    "    for i in range(len(s)):\n",
    "        if s[i:i+sub_len] == sb:\n",
    "            results += 1\n",
    "    return results\n",
    "occuranceSubString('abcabcddcbaaa', 'aa')"
   ]
  },
  {
   "cell_type": "code",
   "execution_count": null,
   "metadata": {},
   "outputs": [],
   "source": []
  }
 ],
 "metadata": {
  "kernelspec": {
   "display_name": "Python 3",
   "language": "python",
   "name": "python3"
  },
  "language_info": {
   "codemirror_mode": {
    "name": "ipython",
    "version": 3
   },
   "file_extension": ".py",
   "mimetype": "text/x-python",
   "name": "python",
   "nbconvert_exporter": "python",
   "pygments_lexer": "ipython3",
   "version": "3.7.3"
  }
 },
 "nbformat": 4,
 "nbformat_minor": 2
}
