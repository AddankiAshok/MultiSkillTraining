{
 "cells": [
  {
   "cell_type": "markdown",
   "metadata": {},
   "source": [
    "### Jupyter Notebook\n",
    "\n",
    "* **Bold**\n",
    "\n",
    "* *Italic*\n",
    "\n",
    "* ***Bold Italic***\n",
    "  * Sublist 1\n",
    "  * Sublist 2\n",
    "    * Ashok\n",
    "    \n",
    "    \n",
    "1. Ordered list1\n",
    "\n",
    "\n",
    "![Jupyter Logo](Jupyter.png)\n",
    "\n",
    "\n",
    ">- [ ] Option 1\n",
    "- [ ] Option 2\n",
    "- [x] Option 3\n",
    "\n",
    "\n",
    "<img src=\"Jupyter.png\" align=\"left\" height=\"100px\" width=\"150px\">\n",
    "\n"
   ]
  },
  {
   "cell_type": "code",
   "execution_count": null,
   "metadata": {},
   "outputs": [],
   "source": []
  },
  {
   "cell_type": "markdown",
   "metadata": {},
   "source": [
    "# Python Basics\n",
    "\n",
    " * Scripting\n",
    " * Intrepreter\n",
    " * Object oriented"
   ]
  },
  {
   "cell_type": "code",
   "execution_count": 22,
   "metadata": {},
   "outputs": [
    {
     "name": "stdout",
     "output_type": "stream",
     "text": [
      "Hello Ashok Welcome to the World's simple language Python\n"
     ]
    }
   ],
   "source": [
    "print(\"Hello Ashok\", end=\" \")\n",
    "print(\"Welcome to the World's simple language\", end=\" \")\n",
    "print(\"Python\")"
   ]
  },
  {
   "cell_type": "code",
   "execution_count": null,
   "metadata": {},
   "outputs": [],
   "source": []
  },
  {
   "cell_type": "markdown",
   "metadata": {},
   "source": [
    "# Assignment"
   ]
  },
  {
   "cell_type": "code",
   "execution_count": 28,
   "metadata": {},
   "outputs": [
    {
     "data": {
      "text/plain": [
       "str"
      ]
     },
     "execution_count": 28,
     "metadata": {},
     "output_type": "execute_result"
    }
   ],
   "source": [
    "n='12345'\n",
    "int(str(n))\n",
    "type(n)"
   ]
  },
  {
   "cell_type": "code",
   "execution_count": 34,
   "metadata": {},
   "outputs": [
    {
     "data": {
      "text/plain": [
       "True"
      ]
     },
     "execution_count": 34,
     "metadata": {},
     "output_type": "execute_result"
    }
   ],
   "source": [
    "False<True"
   ]
  },
  {
   "cell_type": "code",
   "execution_count": 39,
   "metadata": {},
   "outputs": [
    {
     "name": "stdout",
     "output_type": "stream",
     "text": [
      "Enter Number4\n",
      "4 Is Even Number\n"
     ]
    }
   ],
   "source": [
    "#if tne number is even\n",
    "\n",
    "n=eval(input(\"Enter Number\"))\n",
    "if n%2 == 0:\n",
    "    print(n, \"Is Even Number\")\n",
    "else:\n",
    "    print(n, \"Is Even Odd\")"
   ]
  },
  {
   "cell_type": "code",
   "execution_count": 44,
   "metadata": {},
   "outputs": [
    {
     "name": "stdout",
     "output_type": "stream",
     "text": [
      "Enter Number:1\n",
      "Enter Number:4\n",
      "Enter Number:5\n",
      "5\n"
     ]
    }
   ],
   "source": [
    "#Greatest of three numbers\n",
    "\n",
    "n=eval(input(\"Enter Number:\"))\n",
    "n1=eval(input(\"Enter Number:\"))\n",
    "n2=eval(input(\"Enter Number:\"))\n",
    "\n",
    "if n < n1 < n2:\n",
    "    print(n2)\n",
    "elif n1 < n2 < n:\n",
    "    print(n)\n",
    "else:\n",
    "    print(n1)"
   ]
  },
  {
   "cell_type": "code",
   "execution_count": null,
   "metadata": {},
   "outputs": [],
   "source": []
  },
  {
   "cell_type": "code",
   "execution_count": 48,
   "metadata": {},
   "outputs": [
    {
     "name": "stdout",
     "output_type": "stream",
     "text": [
      "Enter an year:2001\n",
      "2001 is not leap year\n"
     ]
    }
   ],
   "source": [
    "#Leapyear or not\n",
    "\n",
    "n=eval(input(\"Enter an year:\"))\n",
    "if n%4==0:\n",
    "    print(n, \"is leap year\")\n",
    "else:\n",
    "    print(n, \"is not leap year\")"
   ]
  },
  {
   "cell_type": "code",
   "execution_count": null,
   "metadata": {},
   "outputs": [],
   "source": []
  },
  {
   "cell_type": "code",
   "execution_count": 7,
   "metadata": {},
   "outputs": [
    {
     "name": "stdout",
     "output_type": "stream",
     "text": [
      "Enter number:45\n",
      "True\n"
     ]
    }
   ],
   "source": [
    "#Numbe is in range\n",
    "n=eval(input(\"Enter number:\"))\n",
    "if n in range(n, 50):\n",
    "    print(\"True\")\n",
    "else:\n",
    "    print(\"False\")"
   ]
  },
  {
   "cell_type": "code",
   "execution_count": null,
   "metadata": {},
   "outputs": [],
   "source": []
  },
  {
   "cell_type": "code",
   "execution_count": 8,
   "metadata": {},
   "outputs": [
    {
     "name": "stdout",
     "output_type": "stream",
     "text": [
      "Enter number:1234567\n"
     ]
    },
    {
     "data": {
      "text/plain": [
       "7"
      ]
     },
     "execution_count": 8,
     "metadata": {},
     "output_type": "execute_result"
    }
   ],
   "source": [
    "# Caluculate the number of digits in a number\n",
    "\n",
    "n=eval(input(\"Enter number:\"))\n",
    "len(str(n))\n"
   ]
  },
  {
   "cell_type": "code",
   "execution_count": null,
   "metadata": {},
   "outputs": [],
   "source": []
  },
  {
   "cell_type": "code",
   "execution_count": 9,
   "metadata": {},
   "outputs": [
    {
     "name": "stdout",
     "output_type": "stream",
     "text": [
      "Enter number:30\n",
      "The given number is multipe of 30\n"
     ]
    }
   ],
   "source": [
    "# Check if the nuber is a multiple of 10\n",
    "\n",
    "n = eval(input(\"Enter number:\"))\n",
    "if n % 10 == 0:\n",
    "    print(\"The given number is multipe of {}\".format(n))\n",
    "else:\n",
    "    print(\"Try Again\")"
   ]
  },
  {
   "cell_type": "code",
   "execution_count": null,
   "metadata": {},
   "outputs": [],
   "source": []
  },
  {
   "cell_type": "code",
   "execution_count": 10,
   "metadata": {},
   "outputs": [
    {
     "name": "stdout",
     "output_type": "stream",
     "text": [
      " Enter the number13578\n",
      " Enter the number10000\n",
      "False\n"
     ]
    }
   ],
   "source": [
    "# check if the number is factor of 10000\n",
    "\n",
    "n = eval(input(\" Enter the number\"))\n",
    "n1= eval(input(\" Enter the number\"))\n",
    "if n % n1 ==0:\n",
    "    print(\"True\")\n",
    "else:\n",
    "    print(\"False\")"
   ]
  },
  {
   "cell_type": "code",
   "execution_count": null,
   "metadata": {},
   "outputs": [],
   "source": []
  },
  {
   "cell_type": "code",
   "execution_count": 13,
   "metadata": {},
   "outputs": [
    {
     "name": "stdout",
     "output_type": "stream",
     "text": [
      "Enter number:123\n",
      "enter another number:123\n",
      "True\n"
     ]
    }
   ],
   "source": [
    "# Check if the string is equal to a number\n",
    "\n",
    "n= input(\"Enter number:\")\n",
    "n1=eval(input(\"enter another number:\"))\n",
    "\n",
    "if n==str(n1):\n",
    "    print(\"True\")\n",
    "else:\n",
    "    print(\"False\")\n"
   ]
  },
  {
   "cell_type": "code",
   "execution_count": null,
   "metadata": {},
   "outputs": [],
   "source": []
  },
  {
   "cell_type": "code",
   "execution_count": 14,
   "metadata": {},
   "outputs": [
    {
     "name": "stdout",
     "output_type": "stream",
     "text": [
      "Enter hours:123\n",
      "Square root function is: 61.5\n"
     ]
    }
   ],
   "source": [
    "# Caluculate the sqrt of a number without functions\n",
    "n=eval(input(\"Enter number:\"))\n",
    "print(\"Square root function is:\",n*.5)"
   ]
  },
  {
   "cell_type": "code",
   "execution_count": null,
   "metadata": {},
   "outputs": [],
   "source": []
  },
  {
   "cell_type": "code",
   "execution_count": 15,
   "metadata": {},
   "outputs": [
    {
     "name": "stdout",
     "output_type": "stream",
     "text": [
      "Enter year:2016\n",
      "31622400000000000\n"
     ]
    }
   ],
   "source": [
    "#Caluculate the number if nano seconds in a given leap year(Leap year logic)\n",
    "\n",
    "n=eval(input(\"Enter year:\"))\n",
    "if n%4==0:\n",
    "    print(366 * 24 * 60 * 60 *(10**9))\n",
    "else:\n",
    "    print(365 * 24 * 60 * 60 *(10**9))"
   ]
  }
 ],
 "metadata": {
  "kernelspec": {
   "display_name": "Python 3",
   "language": "python",
   "name": "python3"
  },
  "language_info": {
   "codemirror_mode": {
    "name": "ipython",
    "version": 3
   },
   "file_extension": ".py",
   "mimetype": "text/x-python",
   "name": "python",
   "nbconvert_exporter": "python",
   "pygments_lexer": "ipython3",
   "version": "3.7.3"
  }
 },
 "nbformat": 4,
 "nbformat_minor": 2
}
